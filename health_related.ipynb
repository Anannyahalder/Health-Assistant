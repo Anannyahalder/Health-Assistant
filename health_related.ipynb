{
  "nbformat": 4,
  "nbformat_minor": 0,
  "metadata": {
    "colab": {
      "provenance": []
    },
    "kernelspec": {
      "name": "python3",
      "display_name": "Python 3"
    },
    "language_info": {
      "name": "python"
    }
  },
  "cells": [
    {
      "cell_type": "markdown",
      "source": [
        "Health Assistant Chatbot Design"
      ],
      "metadata": {
        "id": "wipxiusvEzKm"
      }
    },
    {
      "cell_type": "markdown",
      "source": [
        "Sample Medical Q&A Prompts (English)\n",
        "     \n",
        "    1.What foods can help increase hemoglobin levels?\n",
        "\n",
        "    Answer: \"To boost hemoglobin, focus on iron-rich foods like spinach, red meat, lentils, and fortified cereals. Pair these with vitamin C sources (oranges, bell peppers) to enhance iron absorption. Also include folate (leafy greens) and vitamin B12 (eggs, dairy) which support red blood cell production.\"\n",
        "\n",
        "    2.Is paracetamol safe during pregnancy?\n",
        "\n",
        "    Answer: \"Paracetamol (acetaminophen) is generally considered safe during pregnancy when used at recommended doses for short periods. However, you should always consult your doctor before taking any medication during pregnancy, especially in the first trimester.\"\n",
        "\n",
        "    3.What are symptoms of dehydration?\"\n",
        "\n",
        "    Answer: \"Common dehydration symptoms include extreme thirst, dark yellow urine, dizziness, fatigue, dry mouth, and infrequent urination. Severe dehydration may cause confusion, rapid heartbeat, or fainting and requires immediate medical attention.\"\n",
        "\n",
        "    4.How to manage mild fever at home?\n",
        "\n",
        "    Answer: \"For mild fever (under 102°F/39°C): stay hydrated, rest, use cool compresses, and take paracetamol if needed. Monitor symptoms - seek medical help if fever persists beyond 3 days, reaches 103°F (39.4°C) or higher, or is accompanied by severe symptoms.\"\n",
        "\n",
        "    5.What exercises are good for lower back pain?\n",
        "\n",
        "    Answer: \"Gentle exercises like pelvic tilts, knee-to-chest stretches, and partial crunches can help. Yoga poses (cat-cow, child's pose) and walking are also beneficial. Avoid high-impact activities during acute pain. Consult a physiotherapist for persistent pain.\n",
        "    \n",
        "    6.Can I take ibuprofen for a headache?\n",
        "\n",
        "    Answer: \"Ibuprofen can be effective for headaches in adults at recommended doses (200-400mg every 4-6 hours). Avoid if you have stomach ulcers, kidney issues, or are on blood thinners. Don't use for more than 10 days without medical advice.\"\n",
        "\n",
        "    7.What are early signs of diabetes?\"\n",
        "\n",
        "    Answer: \"Early diabetes signs include frequent urination, excessive thirst, unexplained weight loss, increased hunger, blurry vision, slow-healing sores, and frequent infections. If experiencing these, consult a doctor for blood sugar testing.\"\n",
        "\n",
        "    8.Home remedies for sore throat?\"\n",
        "\n",
        "    Answer: \"Try warm salt water gargles, honey in warm tea, throat lozenges, staying hydrated, and humidified air. Most viral sore throats improve in 5-7 days. See a doctor if severe pain, difficulty swallowing, or symptoms last over a week.\n",
        "\n",
        "    9.How much water should I drink daily?\n",
        "\n",
        "    Answer: \"The general recommendation is about 3.7 liters (125oz) for men and 2.7 liters (91oz) for women daily from all beverages and foods. Needs vary by activity level, climate, and health conditions. Pale yellow urine indicates good hydration.\"\n",
        "\n",
        "    10.When to go to ER for chest pain?\"\n",
        "\n",
        "    Answer: \"Seek emergency care for chest pain that: feels crushing or heavy, radiates to arm/jaw, is accompanied by sweating/nausea/shortness of breath, or lasts more than 5 minutes. These could indicate heart attack and require immediate attention.\"\n",
        "\n",
        "    \n",
        "\n",
        "\n",
        "\n"
      ],
      "metadata": {
        "id": "EDBK7SgKE7WX"
      }
    },
    {
      "cell_type": "markdown",
      "source": [
        "Sample Medical Q&A in Hindi"
      ],
      "metadata": {
        "id": "2mvIzpLfGL3p"
      }
    },
    {
      "cell_type": "markdown",
      "source": [
        "    1.हीमोग्लोबिन कम होने पर क्या खाना चाहिए?\n",
        "\n",
        "    उत्तर: \"हीमोग्लोबिन बढ़ाने के लिए पालक, चुकंदर, अनार, अंडे, मछली और दालें खाएं। विटामिन सी वाले फल (संतरा, आंवला) के साथ लें ताकि आयरन अच्छे से अवशोषित हो। डॉक्टर से सलाह लें अगर हीमोग्लोबिन बहुत कम हो।\"\n",
        "\n",
        "    2.गर्भावस्था में पैरासिटामॉल लेना सुरक्षित है?\n",
        "\n",
        "    उत्तर: \"डॉक्टर की सलाह से सीमित मात्रा में पैरासिटामॉल लेना सुरक्षित हो सकता है, खासकर पहली तिमाही के बाद। लेकिन बिना डॉक्टर की सलाह के कोई भी दवा न लें। बुखार या दर्द ज्यादा हो तो तुरंत डॉक्टर को दिखाएं।"
      ],
      "metadata": {
        "id": "qzftSbqLGSQu"
      }
    },
    {
      "cell_type": "code",
      "execution_count": 3,
      "metadata": {
        "colab": {
          "base_uri": "https://localhost:8080/"
        },
        "id": "GZQEa_iYAbXB",
        "outputId": "e144abb5-cdda-4c06-c06a-66a15a7e610e"
      },
      "outputs": [
        {
          "output_type": "stream",
          "name": "stdout",
          "text": [
            "Medical Query Classifier (English/Hindi)\n",
            "Type 'quit' to exit\n",
            "\n",
            "Please enter your health-related question (English/Hindi): What foods increase hemoglobin?\n",
            "\n",
            "Detected category: nutrition\n",
            "I can provide dietary advice. For example, foods rich in iron can help with low hemoglobin.\n",
            "\n",
            "Please enter your health-related question (English/Hindi): Can I take ibuprofen with antibiotics\n",
            "\n",
            "Detected category: medicine\n",
            "I can offer general information about medications, but always consult a doctor for medical advice.\n",
            "\n",
            "Please enter your health-related question (English/Hindi): Stress management techniques\n",
            "\n",
            "Detected category: general\n",
            "I can provide general health information. Could you please specify your question?\n",
            "\n",
            "Please enter your health-related question (English/Hindi): quit\n",
            "Goodbye! Stay healthy! / अलविदा! स्वस्थ रहें!\n"
          ]
        }
      ],
      "source": [
        "import re\n",
        "\n",
        "def classify_medical_intent(user_query):\n",
        "    \"\"\"\n",
        "    Classifies medical queries into categories based on keywords (English and Hindi)\n",
        "    Returns: 'nutrition', 'medicine', 'emergency', or 'general'\n",
        "    \"\"\"\n",
        "    user_query = user_query.lower()\n",
        "\n",
        "    # Nutrition-related keywords (English + Hindi)\n",
        "    nutrition_keywords = [\n",
        "        # English\n",
        "        'eat', 'diet', 'food', 'nutrition', 'vitamin', 'mineral',\n",
        "        'hemoglobin', 'iron', 'protein', 'calcium', 'fiber', 'fat',\n",
        "        'carb', 'meal', 'fruit', 'vegetable', 'drink', 'water',\n",
        "        'dietary', 'nutrient', 'calorie', 'healthy eating', 'weight loss',\n",
        "        'weight gain', 'balanced diet', 'nutritional',\n",
        "        # Hindi (transliterated)\n",
        "        'khana', 'ahar', 'poshan', 'vitamin', 'mineral',\n",
        "        'hemoglobin', 'loha', 'protein', 'calcium', 'tantu', 'chiknai',\n",
        "        'carb', 'bhojan', 'phal', 'sabji', 'pani', 'peena',\n",
        "        'vajan', 'motapa', 'swasth', 'poshak', 'kalori',\n",
        "        'khoon ki kami', 'khurak', 'aahar', 'peyaj'\n",
        "    ]\n",
        "\n",
        "    # Medicine-related keywords (English + Hindi)\n",
        "    medicine_keywords = [\n",
        "        # English\n",
        "        'medicine', 'drug', 'pill', 'tablet', 'dose', 'dosage',\n",
        "        'paracetamol', 'ibuprofen', 'antibiotic', 'injection', 'vaccine',\n",
        "        'prescription', 'side effect', 'take', 'use', 'safe', 'unsafe',\n",
        "        'contraindication', 'interaction', 'medication', 'pharmacy',\n",
        "        'otc', 'over the counter', 'painkiller', 'antidepressant',\n",
        "        'blood pressure', 'cholesterol', 'insulin', 'treatment',\n",
        "        # Hindi (transliterated)\n",
        "        'dawa', 'aushadhi', 'goli', 'tablet', 'matra', 'khurak',\n",
        "        'paracetamol', 'ibuprofen', 'antibiotic', 'injection', 'tika',\n",
        "        'prescription', 'dawa ke nuksan', 'lena', 'upayog', 'surakshit', 'asurakshit',\n",
        "        'dawaon ka parinaam', 'dawai', 'chemist', 'dard ki dawa',\n",
        "        'blood pressure', 'cholesterol', 'insulin', 'ilaj'\n",
        "    ]\n",
        "\n",
        "    # Emergency-related keywords (English + Hindi)\n",
        "    emergency_keywords = [\n",
        "        # English\n",
        "        'emergency', 'urgent', 'immediate', '911', 'ER', 'hospital',\n",
        "        'ambulance', 'severe', 'serious', 'danger', 'critical',\n",
        "        'heart attack', 'stroke', 'bleeding', 'unconscious', 'fracture',\n",
        "        'burn', 'poison', 'choking', 'drowning', 'allergic reaction',\n",
        "        'anaphylaxis', 'chest pain', 'difficulty breathing', 'seizure',\n",
        "        'accident', 'injured', 'broken bone', 'heavy bleeding',\n",
        "        'cannot breathe', 'suffocating', 'fainting', 'severe pain',\n",
        "        'sudden numbness', 'paralysis', 'suicidal', 'overdose',\n",
        "        # Hindi (transliterated)\n",
        "        'aapatkal', 'twarit', 'jasoos', 'hospital', 'ambulance',\n",
        "        'gambhir', 'khatarnak', 'heart attack', 'stroke', 'khoon bahna',\n",
        "        'behoshi', 'tutni', 'jalan', 'zeher', 'gal me fansa',\n",
        "        'dubaav', 'allergy', 'chest pain', 'sans lene me taklif',\n",
        "        'hatapka', 'durghatna', 'chot', 'bhari khoon bahna',\n",
        "        'sans nahi le pa raha', 'ghut raha', 'behoshi', 'gambhir dard',\n",
        "        'sunpan', 'paralysis', 'aatmahatya', 'overdose'\n",
        "    ]\n",
        "\n",
        "    # Check for emergency first (highest priority)\n",
        "    if any(re.search(r'\\b'+kw+r'\\b', user_query) for kw in emergency_keywords):\n",
        "        return 'emergency'\n",
        "\n",
        "    # Check for medicine-related terms\n",
        "    if any(re.search(r'\\b'+kw+r'\\b', user_query) for kw in medicine_keywords):\n",
        "        return 'medicine'\n",
        "\n",
        "    # Check for nutrition-related terms\n",
        "    if any(re.search(r'\\b'+kw+r'\\b', user_query) for kw in nutrition_keywords):\n",
        "        return 'nutrition'\n",
        "\n",
        "    # Default to general health advice\n",
        "    return 'general'\n",
        "\n",
        "def get_response(intent_category, user_query):\n",
        "    \"\"\"Returns a response based on intent category in appropriate language\"\"\"\n",
        "    # Detect language (simple check for Hindi characters)\n",
        "    is_hindi = bool(re.search(r'[\\u0900-\\u097F]', user_query))\n",
        "\n",
        "    if is_hindi:\n",
        "        responses = {\n",
        "            'nutrition': \"मैं आहार संबंधी सलाह दे सकता हूँ। उदाहरण के लिए, आयरन से भरपूर खाद्य पदार्थ हीमोग्लोबिन बढ़ाने में मदद कर सकते हैं।\",\n",
        "            'medicine': \"मैं दवाओं के बारे में सामान्य जानकारी दे सकता हूँ, लेकिन चिकित्सकीय सलाह के लिए हमेशा डॉक्टर से परामर्श करें।\",\n",
        "            'emergency': \"यह गंभीर लगता है! कृपया तुरंत चिकित्सकीय सहायता लें या आपातकालीन सेवाओं को कॉल करें।\",\n",
        "            'general': \"मैं सामान्य स्वास्थ्य जानकारी प्रदान कर सकता हूँ। क्या आप अपना प्रश्न विस्तार से बता सकते हैं?\"\n",
        "        }\n",
        "    else:\n",
        "        responses = {\n",
        "            'nutrition': \"I can provide dietary advice. For example, foods rich in iron can help with low hemoglobin.\",\n",
        "            'medicine': \"I can offer general information about medications, but always consult a doctor for medical advice.\",\n",
        "            'emergency': \"This sounds serious! Please seek immediate medical attention or call emergency services.\",\n",
        "            'general': \"I can provide general health information. Could you please specify your question?\"\n",
        "        }\n",
        "\n",
        "    return responses.get(intent_category, \"I'm not sure how to help with that. Please consult a healthcare professional.\")\n",
        "\n",
        "def main():\n",
        "    print(\"Medical Query Classifier (English/Hindi)\")\n",
        "    print(\"Type 'quit' to exit\\n\")\n",
        "\n",
        "    while True:\n",
        "        user_input = input(\"Please enter your health-related question (English/Hindi): \")\n",
        "\n",
        "        if user_input.lower() in ['quit', 'exit', 'q', 'बंद करो', 'रुको']:\n",
        "            print(\"Goodbye! Stay healthy! / अलविदा! स्वस्थ रहें!\")\n",
        "            break\n",
        "\n",
        "        intent = classify_medical_intent(user_input)\n",
        "        print(f\"\\nDetected category: {intent}\")\n",
        "        print(get_response(intent, user_input))\n",
        "        print()  # Add empty line for better readability\n",
        "\n",
        "if __name__ == \"__main__\":\n",
        "    main()"
      ]
    },
    {
      "cell_type": "markdown",
      "source": [
        "samples for testing"
      ],
      "metadata": {
        "id": "SFgHDSvHGrtN"
      }
    },
    {
      "cell_type": "markdown",
      "source": [
        "Nutrition-Related Queries:\n",
        "\n",
        "    \"What foods increase hemoglobin?\"\n",
        "\n",
        "    \"Best diet for weight loss\"\n",
        "\n",
        "    \"Vitamin D rich foods\"\n",
        "\n",
        "    \"How much protein do I need daily?\"\n",
        "\n",
        "    \"Healthy snacks for diabetes\"\n",
        "\n",
        "    \"Is banana good for low potassium?\"\n",
        "\n",
        "    \"Water intake calculator\"\n",
        "\n",
        "    \"Iron supplements vs natural sources\"\n",
        "\n",
        "    \"Meal plan for high cholesterol\"\n",
        "\n",
        "    \"Pregnancy nutrition guide\""
      ],
      "metadata": {
        "id": "MtfW4_IWGt-y"
      }
    },
    {
      "cell_type": "markdown",
      "source": [
        "Medicine-Related Queries\"\n",
        "\n",
        "    \"Can I take ibuprofen with antibiotics?\"\n",
        "\n",
        "    \"Paracetamol dosage for adults\"\n",
        "\n",
        "    \"Side effects of statins\"\n",
        "\n",
        "    \"Is metformin safe long-term?\"\n",
        "\n",
        "    \"Alternative to losartan\"\n",
        "\n",
        "    \"COVID vaccine interactions\"\n",
        "\n",
        "    \"How to store insulin properly\"\n",
        "\n",
        "    \"Can antibiotics cause diarrhea?\"\n"
      ],
      "metadata": {
        "id": "TrDN6BZ6G-vD"
      }
    },
    {
      "cell_type": "markdown",
      "source": [
        "Emergency-Related Queries:\n",
        "\n",
        "    \"Heart attack symptoms\"\n",
        "\n",
        "    \"My chest hurts badly what to do?\"\n",
        "\n",
        "    \"Child swallowed a battery\"\n",
        "\n",
        "    \"Severe allergic reaction signs\"\n",
        "\n",
        "    \"Unconscious person first aid\"\n",
        "\n",
        "    \"Chemical burn treatment\"\n",
        "\n",
        "    \"Stroke recognition FAST test\"\n",
        "\n",
        "    \"Broken bone emergency care\"\n",
        "\n",
        "    \"Food poisoning with vomiting blood\"\n",
        "\n",
        "    \"Suicidal thoughts help\""
      ],
      "metadata": {
        "id": "AyaXcAKrHMUR"
      }
    },
    {
      "cell_type": "markdown",
      "source": [
        "General Health Queries:\n",
        "\n",
        "    \"How to improve sleep quality\"\n",
        "\n",
        "    \"Stress management techniques\"\n",
        "\n",
        "    \"Benefits of regular exercise\"\n",
        "\n",
        "    \"Normal blood pressure range\"\n",
        "\n",
        "    \"Home remedies for cold\"\n",
        "\n",
        "    \"Meditation for anxiety\""
      ],
      "metadata": {
        "id": "PMGXD3uiHZ4R"
      }
    },
    {
      "cell_type": "markdown",
      "source": [
        "Multi-Language Test Cases (Hindi):\n",
        "\n",
        "    \"हीमोग्लोबिन बढ़ाने के उपाय\" (Nutrition)\n",
        "\n",
        "    \"प्रेग्नेंसी में कौन सी दवाएं सुरक्षित हैं?\" (Medicine)\n",
        "\n",
        "    \"हार्ट अटैक के लक्षण क्या हैं?\" (Emergency)\n",
        "\n",
        "    \"अच्छी नींद के लिए टिप्स\" (General)\n",
        "\n",
        "    \"डायबिटीज डाइट प्लान\" (Nutrition)"
      ],
      "metadata": {
        "id": "Zst6vgpHHnOc"
      }
    }
  ]
}